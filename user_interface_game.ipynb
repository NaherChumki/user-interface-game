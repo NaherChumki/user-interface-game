{
  "cells": [
    {
      "cell_type": "code",
      "execution_count": null,
      "id": "a6f0c569-5ee2-43a7-877c-08fa6406b7f9",
      "metadata": {
        "id": "a6f0c569-5ee2-43a7-877c-08fa6406b7f9"
      },
      "outputs": [],
      "source": [
        "g_list=[0,1,2]\n"
      ]
    },
    {
      "cell_type": "code",
      "execution_count": null,
      "id": "3a27d2c1-9c85-4373-b3cc-5286f65be364",
      "metadata": {
        "id": "3a27d2c1-9c85-4373-b3cc-5286f65be364"
      },
      "outputs": [],
      "source": [
        "def display_game(g_list):\n",
        "    print ('Here is  the current list: ',g_list)\n",
        "\n",
        ""
      ]
    },
    {
      "cell_type": "code",
      "execution_count": null,
      "id": "717787cd-ac75-42ee-bf86-309201a65267",
      "metadata": {
        "id": "717787cd-ac75-42ee-bf86-309201a65267",
        "outputId": "d6e01704-142d-42d8-f8b7-4c675217bba2"
      },
      "outputs": [
        {
          "name": "stdout",
          "output_type": "stream",
          "text": [
            "Here is  the current list:  [0, 1, 2]\n"
          ]
        }
      ],
      "source": [
        "display_game(g_list)\n"
      ]
    },
    {
      "cell_type": "code",
      "execution_count": null,
      "id": "b11cc270-492c-4dac-a46a-7e9d474625be",
      "metadata": {
        "id": "b11cc270-492c-4dac-a46a-7e9d474625be"
      },
      "outputs": [],
      "source": [
        "def position():\n",
        "    choice='wrong'\n",
        "    while choice not in ['0', '1', '2']:\n",
        "        choice=input('pick a position (0,1,2): ')\n",
        "        print('sorry, invalid')\n",
        "        #if choice not in ['0', '1', '2']:\n",
        "             #print('sorry, invalid')\n",
        "\n",
        "    return int (choice)\n",
        "\n",
        ""
      ]
    },
    {
      "cell_type": "code",
      "execution_count": null,
      "id": "ca92fff5-7fdc-478f-bc79-0186adc66035",
      "metadata": {
        "id": "ca92fff5-7fdc-478f-bc79-0186adc66035",
        "outputId": "3a589bac-1414-49ce-89b2-a1fb97feaead"
      },
      "outputs": [
        {
          "name": "stdin",
          "output_type": "stream",
          "text": [
            "pick a position (0,1,2):  2\n"
          ]
        },
        {
          "name": "stdout",
          "output_type": "stream",
          "text": [
            "sorry, invalid\n"
          ]
        },
        {
          "data": {
            "text/plain": [
              "2"
            ]
          },
          "execution_count": 6,
          "metadata": {},
          "output_type": "execute_result"
        }
      ],
      "source": [
        "position()"
      ]
    },
    {
      "cell_type": "code",
      "execution_count": null,
      "id": "0fd21abe-2325-46da-9506-e84ce7af535e",
      "metadata": {
        "id": "0fd21abe-2325-46da-9506-e84ce7af535e"
      },
      "outputs": [],
      "source": [
        "def replace(g_list,pos):\n",
        "    user_input=input('type a string for replace:')\n",
        "    g_list[pos]=user_input\n",
        "    return g_list"
      ]
    },
    {
      "cell_type": "code",
      "execution_count": null,
      "id": "e48f5a21-cbf2-4935-8452-382759fd1dd6",
      "metadata": {
        "id": "e48f5a21-cbf2-4935-8452-382759fd1dd6",
        "outputId": "f394f90d-4f03-459d-beaf-a44efc255e26"
      },
      "outputs": [
        {
          "name": "stdin",
          "output_type": "stream",
          "text": [
            "type a string for replace: 2\n"
          ]
        },
        {
          "data": {
            "text/plain": [
              "[0, '2', 2]"
            ]
          },
          "execution_count": 8,
          "metadata": {},
          "output_type": "execute_result"
        }
      ],
      "source": [
        "replace(g_list,1)"
      ]
    },
    {
      "cell_type": "code",
      "execution_count": null,
      "id": "eb547731-bd6d-4310-9880-98388a5410ca",
      "metadata": {
        "id": "eb547731-bd6d-4310-9880-98388a5410ca"
      },
      "outputs": [],
      "source": [
        "def game():\n",
        "    choice='wrong'\n",
        "    while choice not in ['y', 'n']:\n",
        "        choice=input('keep playing (y,n): ')\n",
        "\n",
        "        if choice not in ['y', 'n']:\n",
        "            print(\"sorry, i don't understand, please choose (y or n)\")\n",
        "\n",
        "    if choice=='y':\n",
        "        return True\n",
        "    else:\n",
        "         return False"
      ]
    },
    {
      "cell_type": "code",
      "execution_count": null,
      "id": "b004beb4-f784-4dd8-9e12-4f5d9787796d",
      "metadata": {
        "id": "b004beb4-f784-4dd8-9e12-4f5d9787796d",
        "outputId": "29ae9974-838e-4156-cdc1-a92b83690638"
      },
      "outputs": [
        {
          "name": "stdin",
          "output_type": "stream",
          "text": [
            "keep playing (y,n):  y\n"
          ]
        },
        {
          "data": {
            "text/plain": [
              "True"
            ]
          },
          "execution_count": 10,
          "metadata": {},
          "output_type": "execute_result"
        }
      ],
      "source": [
        "game()"
      ]
    },
    {
      "cell_type": "code",
      "execution_count": null,
      "id": "836bcfc7-1b71-497e-93a7-7b6cfbd4a70b",
      "metadata": {
        "id": "836bcfc7-1b71-497e-93a7-7b6cfbd4a70b",
        "outputId": "904958bb-b0e0-4728-f093-339b0ae14667"
      },
      "outputs": [
        {
          "name": "stdout",
          "output_type": "stream",
          "text": [
            "Here is  the current list:  [0, 1, 2]\n"
          ]
        },
        {
          "name": "stdin",
          "output_type": "stream",
          "text": [
            "pick a position (0,1,2):  t\n"
          ]
        },
        {
          "name": "stdout",
          "output_type": "stream",
          "text": [
            "sorry, invalid\n"
          ]
        },
        {
          "name": "stdin",
          "output_type": "stream",
          "text": [
            "pick a position (0,1,2):  1\n"
          ]
        },
        {
          "name": "stdout",
          "output_type": "stream",
          "text": [
            "sorry, invalid\n"
          ]
        },
        {
          "name": "stdin",
          "output_type": "stream",
          "text": [
            "type a string for replace: my\n"
          ]
        },
        {
          "name": "stdout",
          "output_type": "stream",
          "text": [
            "Here is  the current list:  [0, 'my', 2]\n"
          ]
        },
        {
          "name": "stdin",
          "output_type": "stream",
          "text": [
            "keep playing (y,n):  y\n"
          ]
        },
        {
          "name": "stdout",
          "output_type": "stream",
          "text": [
            "Here is  the current list:  [0, 'my', 2]\n"
          ]
        },
        {
          "name": "stdin",
          "output_type": "stream",
          "text": [
            "pick a position (0,1,2):  2\n"
          ]
        },
        {
          "name": "stdout",
          "output_type": "stream",
          "text": [
            "sorry, invalid\n"
          ]
        },
        {
          "name": "stdin",
          "output_type": "stream",
          "text": [
            "type a string for replace: te\n"
          ]
        },
        {
          "name": "stdout",
          "output_type": "stream",
          "text": [
            "Here is  the current list:  [0, 'my', 'te']\n"
          ]
        },
        {
          "name": "stdin",
          "output_type": "stream",
          "text": [
            "keep playing (y,n):  n\n"
          ]
        }
      ],
      "source": [
        "game_on=True\n",
        "g_list=[0,1,2]\n",
        "while game_on:\n",
        "    display_game(g_list)\n",
        "    new_position=position()\n",
        "    g_list=replace(g_list,new_position)\n",
        "    display_game(g_list)\n",
        "    game_on= game()\n",
        ""
      ]
    },
    {
      "cell_type": "code",
      "execution_count": null,
      "id": "7bda031d-b437-4a7e-972b-f184ca9aa175",
      "metadata": {
        "id": "7bda031d-b437-4a7e-972b-f184ca9aa175"
      },
      "outputs": [],
      "source": []
    },
    {
      "cell_type": "code",
      "execution_count": null,
      "id": "59c0fb66-8dd0-4713-94f7-9ea9b082429e",
      "metadata": {
        "id": "59c0fb66-8dd0-4713-94f7-9ea9b082429e"
      },
      "outputs": [],
      "source": []
    }
  ],
  "metadata": {
    "kernelspec": {
      "display_name": "Python 3 (ipykernel)",
      "language": "python",
      "name": "python3"
    },
    "language_info": {
      "codemirror_mode": {
        "name": "ipython",
        "version": 3
      },
      "file_extension": ".py",
      "mimetype": "text/x-python",
      "name": "python",
      "nbconvert_exporter": "python",
      "pygments_lexer": "ipython3",
      "version": "3.11.7"
    },
    "colab": {
      "provenance": []
    }
  },
  "nbformat": 4,
  "nbformat_minor": 5
}